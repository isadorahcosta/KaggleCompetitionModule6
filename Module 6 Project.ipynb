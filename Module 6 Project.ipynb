{
 "cells": [
  {
   "cell_type": "markdown",
   "id": "0786fac5",
   "metadata": {},
   "source": [
    "## M6 | PROJECT: Kaggle Competition"
   ]
  },
  {
   "cell_type": "markdown",
   "id": "eda76be4",
   "metadata": {},
   "source": [
    "\n",
    "Predict traffic congestion in 4 major US cities: https://www.kaggle.com/c/bigquery-geotab-intersection-congestion/data \n",
    " \n",
    "Pick a competition and follow the instructions to make sure you understand the problem, data and submission requirements. Some competitions are closed but you can still submit and see how you are placed on the leader board. \n",
    "\n",
    "\n",
    "As you are building a predictive model or models, make sure you follow some of the best practices we have learned so far:\n",
    "1)    Clean and then visually explore your data before you start the analysis\n",
    "2)    Don’t just make assumptions, whenever possible, use statistical analysis to test hypotheses and find relationships in the data\n",
    "3)    Build and compare predictive models in terms of their performance. Note that one competition is in the domain of NLP, the second is on time series, and the third- a standard supervised learning problem. Follow the best practices in each of them. \n",
    "\n",
    "\n",
    "You don't need to follow the exact same steps in the project you choose (and not all of them will be applicable) but this should give you a good idea of how an end-to-end executed solution could look like. See how it is easy to understand & follow, and nicely presented in a storyline.\n",
    "\n",
    "Submit your Jupyter notebook and link to a GitHub repository where you store the code, as well your Kaggle link. What is your position in the leader board?"
   ]
  },
  {
   "cell_type": "code",
   "execution_count": 1,
   "id": "884bcb16",
   "metadata": {},
   "outputs": [
    {
     "name": "stderr",
     "output_type": "stream",
     "text": [
      "/Users/isadoracosta/opt/anaconda3/lib/python3.9/site-packages/xgboost/compat.py:36: FutureWarning: pandas.Int64Index is deprecated and will be removed from pandas in a future version. Use pandas.Index with the appropriate dtype instead.\n",
      "  from pandas import MultiIndex, Int64Index\n"
     ]
    }
   ],
   "source": [
    "import pandas as pd\n",
    "import numpy as np\n",
    "import matplotlib.pyplot as plt \n",
    "import seaborn as sns\n",
    "from sklearn.preprocessing import LabelEncoder\n",
    "from sklearn.preprocessing import StandardScaler\n",
    "from sklearn.decomposition import PCA\n",
    "from sklearn.manifold import TSNE\n",
    "from sklearn.model_selection import train_test_split, GridSearchCV, cross_val_score, KFold, RepeatedKFold\n",
    "from sklearn.metrics import mean_squared_error, r2_score\n",
    "from sklearn.linear_model import LinearRegression\n",
    "from sklearn.tree import DecisionTreeRegressor\n",
    "from sklearn.linear_model import Ridge\n",
    "from sklearn.linear_model import Lasso\n",
    "import xgboost as xgb\n",
    "from xgboost import XGBRegressor\n",
    "\n",
    "import warnings\n",
    "warnings.filterwarnings(\"ignore\")"
   ]
  },
  {
   "cell_type": "code",
   "execution_count": 2,
   "id": "274fa531",
   "metadata": {},
   "outputs": [],
   "source": [
    "#loading the dataset\n",
    "train = pd.read_csv(\"train.csv\")\n",
    "test = pd.read_csv(\"test.csv\")"
   ]
  },
  {
   "cell_type": "markdown",
   "id": "5ad16623",
   "metadata": {},
   "source": [
    "### 1. Data Analysis"
   ]
  },
  {
   "cell_type": "code",
   "execution_count": 3,
   "id": "5302015e",
   "metadata": {
    "scrolled": false
   },
   "outputs": [
    {
     "data": {
      "text/html": [
       "<div>\n",
       "<style scoped>\n",
       "    .dataframe tbody tr th:only-of-type {\n",
       "        vertical-align: middle;\n",
       "    }\n",
       "\n",
       "    .dataframe tbody tr th {\n",
       "        vertical-align: top;\n",
       "    }\n",
       "\n",
       "    .dataframe thead th {\n",
       "        text-align: right;\n",
       "    }\n",
       "</style>\n",
       "<table border=\"1\" class=\"dataframe\">\n",
       "  <thead>\n",
       "    <tr style=\"text-align: right;\">\n",
       "      <th></th>\n",
       "      <th>RowId</th>\n",
       "      <th>IntersectionId</th>\n",
       "      <th>Latitude</th>\n",
       "      <th>Longitude</th>\n",
       "      <th>EntryStreetName</th>\n",
       "      <th>ExitStreetName</th>\n",
       "      <th>EntryHeading</th>\n",
       "      <th>ExitHeading</th>\n",
       "      <th>Hour</th>\n",
       "      <th>Weekend</th>\n",
       "      <th>...</th>\n",
       "      <th>TimeFromFirstStop_p40</th>\n",
       "      <th>TimeFromFirstStop_p50</th>\n",
       "      <th>TimeFromFirstStop_p60</th>\n",
       "      <th>TimeFromFirstStop_p80</th>\n",
       "      <th>DistanceToFirstStop_p20</th>\n",
       "      <th>DistanceToFirstStop_p40</th>\n",
       "      <th>DistanceToFirstStop_p50</th>\n",
       "      <th>DistanceToFirstStop_p60</th>\n",
       "      <th>DistanceToFirstStop_p80</th>\n",
       "      <th>City</th>\n",
       "    </tr>\n",
       "  </thead>\n",
       "  <tbody>\n",
       "    <tr>\n",
       "      <th>0</th>\n",
       "      <td>1921357</td>\n",
       "      <td>0</td>\n",
       "      <td>33.791659</td>\n",
       "      <td>-84.430032</td>\n",
       "      <td>Marietta Boulevard Northwest</td>\n",
       "      <td>Marietta Boulevard Northwest</td>\n",
       "      <td>NW</td>\n",
       "      <td>NW</td>\n",
       "      <td>0</td>\n",
       "      <td>0</td>\n",
       "      <td>...</td>\n",
       "      <td>0.0</td>\n",
       "      <td>0.0</td>\n",
       "      <td>0.0</td>\n",
       "      <td>0.0</td>\n",
       "      <td>0.0</td>\n",
       "      <td>0.0</td>\n",
       "      <td>0.0</td>\n",
       "      <td>0.0</td>\n",
       "      <td>0.0</td>\n",
       "      <td>Atlanta</td>\n",
       "    </tr>\n",
       "    <tr>\n",
       "      <th>1</th>\n",
       "      <td>1921358</td>\n",
       "      <td>0</td>\n",
       "      <td>33.791659</td>\n",
       "      <td>-84.430032</td>\n",
       "      <td>Marietta Boulevard Northwest</td>\n",
       "      <td>Marietta Boulevard Northwest</td>\n",
       "      <td>SE</td>\n",
       "      <td>SE</td>\n",
       "      <td>0</td>\n",
       "      <td>0</td>\n",
       "      <td>...</td>\n",
       "      <td>0.0</td>\n",
       "      <td>0.0</td>\n",
       "      <td>0.0</td>\n",
       "      <td>0.0</td>\n",
       "      <td>0.0</td>\n",
       "      <td>0.0</td>\n",
       "      <td>0.0</td>\n",
       "      <td>0.0</td>\n",
       "      <td>0.0</td>\n",
       "      <td>Atlanta</td>\n",
       "    </tr>\n",
       "    <tr>\n",
       "      <th>2</th>\n",
       "      <td>1921359</td>\n",
       "      <td>0</td>\n",
       "      <td>33.791659</td>\n",
       "      <td>-84.430032</td>\n",
       "      <td>Marietta Boulevard Northwest</td>\n",
       "      <td>Marietta Boulevard Northwest</td>\n",
       "      <td>NW</td>\n",
       "      <td>NW</td>\n",
       "      <td>1</td>\n",
       "      <td>0</td>\n",
       "      <td>...</td>\n",
       "      <td>0.0</td>\n",
       "      <td>0.0</td>\n",
       "      <td>0.0</td>\n",
       "      <td>0.0</td>\n",
       "      <td>0.0</td>\n",
       "      <td>0.0</td>\n",
       "      <td>0.0</td>\n",
       "      <td>0.0</td>\n",
       "      <td>0.0</td>\n",
       "      <td>Atlanta</td>\n",
       "    </tr>\n",
       "    <tr>\n",
       "      <th>3</th>\n",
       "      <td>1921360</td>\n",
       "      <td>0</td>\n",
       "      <td>33.791659</td>\n",
       "      <td>-84.430032</td>\n",
       "      <td>Marietta Boulevard Northwest</td>\n",
       "      <td>Marietta Boulevard Northwest</td>\n",
       "      <td>SE</td>\n",
       "      <td>SE</td>\n",
       "      <td>1</td>\n",
       "      <td>0</td>\n",
       "      <td>...</td>\n",
       "      <td>0.0</td>\n",
       "      <td>0.0</td>\n",
       "      <td>0.0</td>\n",
       "      <td>0.0</td>\n",
       "      <td>0.0</td>\n",
       "      <td>0.0</td>\n",
       "      <td>0.0</td>\n",
       "      <td>0.0</td>\n",
       "      <td>0.0</td>\n",
       "      <td>Atlanta</td>\n",
       "    </tr>\n",
       "    <tr>\n",
       "      <th>4</th>\n",
       "      <td>1921361</td>\n",
       "      <td>0</td>\n",
       "      <td>33.791659</td>\n",
       "      <td>-84.430032</td>\n",
       "      <td>Marietta Boulevard Northwest</td>\n",
       "      <td>Marietta Boulevard Northwest</td>\n",
       "      <td>NW</td>\n",
       "      <td>NW</td>\n",
       "      <td>2</td>\n",
       "      <td>0</td>\n",
       "      <td>...</td>\n",
       "      <td>0.0</td>\n",
       "      <td>0.0</td>\n",
       "      <td>0.0</td>\n",
       "      <td>0.0</td>\n",
       "      <td>0.0</td>\n",
       "      <td>0.0</td>\n",
       "      <td>0.0</td>\n",
       "      <td>0.0</td>\n",
       "      <td>0.0</td>\n",
       "      <td>Atlanta</td>\n",
       "    </tr>\n",
       "  </tbody>\n",
       "</table>\n",
       "<p>5 rows × 28 columns</p>\n",
       "</div>"
      ],
      "text/plain": [
       "     RowId  IntersectionId   Latitude  Longitude  \\\n",
       "0  1921357               0  33.791659 -84.430032   \n",
       "1  1921358               0  33.791659 -84.430032   \n",
       "2  1921359               0  33.791659 -84.430032   \n",
       "3  1921360               0  33.791659 -84.430032   \n",
       "4  1921361               0  33.791659 -84.430032   \n",
       "\n",
       "                EntryStreetName                ExitStreetName EntryHeading  \\\n",
       "0  Marietta Boulevard Northwest  Marietta Boulevard Northwest           NW   \n",
       "1  Marietta Boulevard Northwest  Marietta Boulevard Northwest           SE   \n",
       "2  Marietta Boulevard Northwest  Marietta Boulevard Northwest           NW   \n",
       "3  Marietta Boulevard Northwest  Marietta Boulevard Northwest           SE   \n",
       "4  Marietta Boulevard Northwest  Marietta Boulevard Northwest           NW   \n",
       "\n",
       "  ExitHeading  Hour  Weekend  ...  TimeFromFirstStop_p40  \\\n",
       "0          NW     0        0  ...                    0.0   \n",
       "1          SE     0        0  ...                    0.0   \n",
       "2          NW     1        0  ...                    0.0   \n",
       "3          SE     1        0  ...                    0.0   \n",
       "4          NW     2        0  ...                    0.0   \n",
       "\n",
       "  TimeFromFirstStop_p50  TimeFromFirstStop_p60  TimeFromFirstStop_p80  \\\n",
       "0                   0.0                    0.0                    0.0   \n",
       "1                   0.0                    0.0                    0.0   \n",
       "2                   0.0                    0.0                    0.0   \n",
       "3                   0.0                    0.0                    0.0   \n",
       "4                   0.0                    0.0                    0.0   \n",
       "\n",
       "   DistanceToFirstStop_p20  DistanceToFirstStop_p40  DistanceToFirstStop_p50  \\\n",
       "0                      0.0                      0.0                      0.0   \n",
       "1                      0.0                      0.0                      0.0   \n",
       "2                      0.0                      0.0                      0.0   \n",
       "3                      0.0                      0.0                      0.0   \n",
       "4                      0.0                      0.0                      0.0   \n",
       "\n",
       "   DistanceToFirstStop_p60  DistanceToFirstStop_p80     City  \n",
       "0                      0.0                      0.0  Atlanta  \n",
       "1                      0.0                      0.0  Atlanta  \n",
       "2                      0.0                      0.0  Atlanta  \n",
       "3                      0.0                      0.0  Atlanta  \n",
       "4                      0.0                      0.0  Atlanta  \n",
       "\n",
       "[5 rows x 28 columns]"
      ]
     },
     "execution_count": 3,
     "metadata": {},
     "output_type": "execute_result"
    }
   ],
   "source": [
    "#looking at the first 5 values of the train dataset\n",
    "train.head()"
   ]
  },
  {
   "cell_type": "code",
   "execution_count": 4,
   "id": "94207336",
   "metadata": {
    "scrolled": true
   },
   "outputs": [
    {
     "data": {
      "text/html": [
       "<div>\n",
       "<style scoped>\n",
       "    .dataframe tbody tr th:only-of-type {\n",
       "        vertical-align: middle;\n",
       "    }\n",
       "\n",
       "    .dataframe tbody tr th {\n",
       "        vertical-align: top;\n",
       "    }\n",
       "\n",
       "    .dataframe thead th {\n",
       "        text-align: right;\n",
       "    }\n",
       "</style>\n",
       "<table border=\"1\" class=\"dataframe\">\n",
       "  <thead>\n",
       "    <tr style=\"text-align: right;\">\n",
       "      <th></th>\n",
       "      <th>RowId</th>\n",
       "      <th>IntersectionId</th>\n",
       "      <th>Latitude</th>\n",
       "      <th>Longitude</th>\n",
       "      <th>EntryStreetName</th>\n",
       "      <th>ExitStreetName</th>\n",
       "      <th>EntryHeading</th>\n",
       "      <th>ExitHeading</th>\n",
       "      <th>Hour</th>\n",
       "      <th>Weekend</th>\n",
       "      <th>Month</th>\n",
       "      <th>Path</th>\n",
       "      <th>City</th>\n",
       "    </tr>\n",
       "  </thead>\n",
       "  <tbody>\n",
       "    <tr>\n",
       "      <th>0</th>\n",
       "      <td>0</td>\n",
       "      <td>1</td>\n",
       "      <td>33.75094</td>\n",
       "      <td>-84.393032</td>\n",
       "      <td>Peachtree Street Southwest</td>\n",
       "      <td>Peachtree Street Southwest</td>\n",
       "      <td>NE</td>\n",
       "      <td>NE</td>\n",
       "      <td>0</td>\n",
       "      <td>0</td>\n",
       "      <td>6</td>\n",
       "      <td>Peachtree Street Southwest_NE_Peachtree Street...</td>\n",
       "      <td>Atlanta</td>\n",
       "    </tr>\n",
       "    <tr>\n",
       "      <th>1</th>\n",
       "      <td>1</td>\n",
       "      <td>1</td>\n",
       "      <td>33.75094</td>\n",
       "      <td>-84.393032</td>\n",
       "      <td>Peachtree Street Southwest</td>\n",
       "      <td>Mitchell Street Southwest</td>\n",
       "      <td>SW</td>\n",
       "      <td>SE</td>\n",
       "      <td>0</td>\n",
       "      <td>0</td>\n",
       "      <td>6</td>\n",
       "      <td>Peachtree Street Southwest_SW_Mitchell Street ...</td>\n",
       "      <td>Atlanta</td>\n",
       "    </tr>\n",
       "    <tr>\n",
       "      <th>2</th>\n",
       "      <td>2</td>\n",
       "      <td>1</td>\n",
       "      <td>33.75094</td>\n",
       "      <td>-84.393032</td>\n",
       "      <td>Peachtree Street Southwest</td>\n",
       "      <td>Peachtree Street Southwest</td>\n",
       "      <td>SW</td>\n",
       "      <td>SW</td>\n",
       "      <td>0</td>\n",
       "      <td>0</td>\n",
       "      <td>6</td>\n",
       "      <td>Peachtree Street Southwest_SW_Peachtree Street...</td>\n",
       "      <td>Atlanta</td>\n",
       "    </tr>\n",
       "    <tr>\n",
       "      <th>3</th>\n",
       "      <td>3</td>\n",
       "      <td>1</td>\n",
       "      <td>33.75094</td>\n",
       "      <td>-84.393032</td>\n",
       "      <td>Peachtree Street Southwest</td>\n",
       "      <td>Peachtree Street Southwest</td>\n",
       "      <td>NE</td>\n",
       "      <td>NE</td>\n",
       "      <td>1</td>\n",
       "      <td>0</td>\n",
       "      <td>6</td>\n",
       "      <td>Peachtree Street Southwest_NE_Peachtree Street...</td>\n",
       "      <td>Atlanta</td>\n",
       "    </tr>\n",
       "    <tr>\n",
       "      <th>4</th>\n",
       "      <td>4</td>\n",
       "      <td>1</td>\n",
       "      <td>33.75094</td>\n",
       "      <td>-84.393032</td>\n",
       "      <td>Peachtree Street Southwest</td>\n",
       "      <td>Peachtree Street Southwest</td>\n",
       "      <td>SW</td>\n",
       "      <td>SW</td>\n",
       "      <td>1</td>\n",
       "      <td>0</td>\n",
       "      <td>6</td>\n",
       "      <td>Peachtree Street Southwest_SW_Peachtree Street...</td>\n",
       "      <td>Atlanta</td>\n",
       "    </tr>\n",
       "  </tbody>\n",
       "</table>\n",
       "</div>"
      ],
      "text/plain": [
       "   RowId  IntersectionId  Latitude  Longitude             EntryStreetName  \\\n",
       "0      0               1  33.75094 -84.393032  Peachtree Street Southwest   \n",
       "1      1               1  33.75094 -84.393032  Peachtree Street Southwest   \n",
       "2      2               1  33.75094 -84.393032  Peachtree Street Southwest   \n",
       "3      3               1  33.75094 -84.393032  Peachtree Street Southwest   \n",
       "4      4               1  33.75094 -84.393032  Peachtree Street Southwest   \n",
       "\n",
       "               ExitStreetName EntryHeading ExitHeading  Hour  Weekend  Month  \\\n",
       "0  Peachtree Street Southwest           NE          NE     0        0      6   \n",
       "1   Mitchell Street Southwest           SW          SE     0        0      6   \n",
       "2  Peachtree Street Southwest           SW          SW     0        0      6   \n",
       "3  Peachtree Street Southwest           NE          NE     1        0      6   \n",
       "4  Peachtree Street Southwest           SW          SW     1        0      6   \n",
       "\n",
       "                                                Path     City  \n",
       "0  Peachtree Street Southwest_NE_Peachtree Street...  Atlanta  \n",
       "1  Peachtree Street Southwest_SW_Mitchell Street ...  Atlanta  \n",
       "2  Peachtree Street Southwest_SW_Peachtree Street...  Atlanta  \n",
       "3  Peachtree Street Southwest_NE_Peachtree Street...  Atlanta  \n",
       "4  Peachtree Street Southwest_SW_Peachtree Street...  Atlanta  "
      ]
     },
     "execution_count": 4,
     "metadata": {},
     "output_type": "execute_result"
    }
   ],
   "source": [
    "#looking at the first 5 values of the test dataset\n",
    "test.head()"
   ]
  },
  {
   "cell_type": "code",
   "execution_count": 5,
   "id": "1ce84c39",
   "metadata": {},
   "outputs": [
    {
     "name": "stdout",
     "output_type": "stream",
     "text": [
      "shape of train dataset : (856387, 28)\n",
      "shape of test dataset : (1921357, 13)\n"
     ]
    }
   ],
   "source": [
    "#printing the shape of both trainsets\n",
    "print (\"shape of train dataset :\", train.shape)\n",
    "print (\"shape of test dataset :\", test.shape)"
   ]
  },
  {
   "cell_type": "code",
   "execution_count": 6,
   "id": "5bd2f041",
   "metadata": {},
   "outputs": [
    {
     "name": "stdout",
     "output_type": "stream",
     "text": [
      "<class 'pandas.core.frame.DataFrame'>\n",
      "RangeIndex: 856387 entries, 0 to 856386\n",
      "Data columns (total 28 columns):\n",
      " #   Column                   Non-Null Count   Dtype  \n",
      "---  ------                   --------------   -----  \n",
      " 0   RowId                    856387 non-null  int64  \n",
      " 1   IntersectionId           856387 non-null  int64  \n",
      " 2   Latitude                 856387 non-null  float64\n",
      " 3   Longitude                856387 non-null  float64\n",
      " 4   EntryStreetName          848239 non-null  object \n",
      " 5   ExitStreetName           850100 non-null  object \n",
      " 6   EntryHeading             856387 non-null  object \n",
      " 7   ExitHeading              856387 non-null  object \n",
      " 8   Hour                     856387 non-null  int64  \n",
      " 9   Weekend                  856387 non-null  int64  \n",
      " 10  Month                    856387 non-null  int64  \n",
      " 11  Path                     856387 non-null  object \n",
      " 12  TotalTimeStopped_p20     856387 non-null  float64\n",
      " 13  TotalTimeStopped_p40     856387 non-null  float64\n",
      " 14  TotalTimeStopped_p50     856387 non-null  float64\n",
      " 15  TotalTimeStopped_p60     856387 non-null  float64\n",
      " 16  TotalTimeStopped_p80     856387 non-null  float64\n",
      " 17  TimeFromFirstStop_p20    856387 non-null  float64\n",
      " 18  TimeFromFirstStop_p40    856387 non-null  float64\n",
      " 19  TimeFromFirstStop_p50    856387 non-null  float64\n",
      " 20  TimeFromFirstStop_p60    856387 non-null  float64\n",
      " 21  TimeFromFirstStop_p80    856387 non-null  float64\n",
      " 22  DistanceToFirstStop_p20  856387 non-null  float64\n",
      " 23  DistanceToFirstStop_p40  856387 non-null  float64\n",
      " 24  DistanceToFirstStop_p50  856387 non-null  float64\n",
      " 25  DistanceToFirstStop_p60  856387 non-null  float64\n",
      " 26  DistanceToFirstStop_p80  856387 non-null  float64\n",
      " 27  City                     856387 non-null  object \n",
      "dtypes: float64(17), int64(5), object(6)\n",
      "memory usage: 182.9+ MB\n"
     ]
    }
   ],
   "source": [
    "#looking at the data types\n",
    "train.info()"
   ]
  },
  {
   "cell_type": "code",
   "execution_count": 7,
   "id": "0a51c3da",
   "metadata": {
    "scrolled": false
   },
   "outputs": [
    {
     "name": "stdout",
     "output_type": "stream",
     "text": [
      "<class 'pandas.core.frame.DataFrame'>\n",
      "RangeIndex: 1921357 entries, 0 to 1921356\n",
      "Data columns (total 13 columns):\n",
      " #   Column           Dtype  \n",
      "---  ------           -----  \n",
      " 0   RowId            int64  \n",
      " 1   IntersectionId   int64  \n",
      " 2   Latitude         float64\n",
      " 3   Longitude        float64\n",
      " 4   EntryStreetName  object \n",
      " 5   ExitStreetName   object \n",
      " 6   EntryHeading     object \n",
      " 7   ExitHeading      object \n",
      " 8   Hour             int64  \n",
      " 9   Weekend          int64  \n",
      " 10  Month            int64  \n",
      " 11  Path             object \n",
      " 12  City             object \n",
      "dtypes: float64(2), int64(5), object(6)\n",
      "memory usage: 190.6+ MB\n"
     ]
    }
   ],
   "source": [
    "test.info()"
   ]
  },
  {
   "cell_type": "code",
   "execution_count": 8,
   "id": "4d69c84e",
   "metadata": {
    "scrolled": true
   },
   "outputs": [
    {
     "data": {
      "text/plain": [
       "RowId                         0\n",
       "IntersectionId                0\n",
       "Latitude                      0\n",
       "Longitude                     0\n",
       "EntryStreetName            8148\n",
       "ExitStreetName             6287\n",
       "EntryHeading                  0\n",
       "ExitHeading                   0\n",
       "Hour                          0\n",
       "Weekend                       0\n",
       "Month                         0\n",
       "Path                          0\n",
       "TotalTimeStopped_p20          0\n",
       "TotalTimeStopped_p40          0\n",
       "TotalTimeStopped_p50          0\n",
       "TotalTimeStopped_p60          0\n",
       "TotalTimeStopped_p80          0\n",
       "TimeFromFirstStop_p20         0\n",
       "TimeFromFirstStop_p40         0\n",
       "TimeFromFirstStop_p50         0\n",
       "TimeFromFirstStop_p60         0\n",
       "TimeFromFirstStop_p80         0\n",
       "DistanceToFirstStop_p20       0\n",
       "DistanceToFirstStop_p40       0\n",
       "DistanceToFirstStop_p50       0\n",
       "DistanceToFirstStop_p60       0\n",
       "DistanceToFirstStop_p80       0\n",
       "City                          0\n",
       "dtype: int64"
      ]
     },
     "execution_count": 8,
     "metadata": {},
     "output_type": "execute_result"
    }
   ],
   "source": [
    "#checking missing or NaN values\n",
    "train.isnull().sum()"
   ]
  },
  {
   "cell_type": "code",
   "execution_count": 9,
   "id": "a2c8183d",
   "metadata": {
    "scrolled": true
   },
   "outputs": [
    {
     "data": {
      "text/plain": [
       "RowId                  0\n",
       "IntersectionId         0\n",
       "Latitude               0\n",
       "Longitude              0\n",
       "EntryStreetName    19198\n",
       "ExitStreetName     15587\n",
       "EntryHeading           0\n",
       "ExitHeading            0\n",
       "Hour                   0\n",
       "Weekend                0\n",
       "Month                  0\n",
       "Path                   0\n",
       "City                   0\n",
       "dtype: int64"
      ]
     },
     "execution_count": 9,
     "metadata": {},
     "output_type": "execute_result"
    }
   ],
   "source": [
    "#checking missing or NaN values\n",
    "test.isnull().sum()"
   ]
  },
  {
   "cell_type": "code",
   "execution_count": 10,
   "id": "ebe3ede3",
   "metadata": {},
   "outputs": [],
   "source": [
    "#dropping all NaN values\n",
    "train.dropna(inplace=True)\n",
    "test.dropna(inplace=True)"
   ]
  },
  {
   "cell_type": "code",
   "execution_count": 11,
   "id": "27536d6d",
   "metadata": {
    "scrolled": true
   },
   "outputs": [
    {
     "data": {
      "text/plain": [
       "array(['Atlanta', 'Boston', 'Chicago', 'Philadelphia'], dtype=object)"
      ]
     },
     "execution_count": 11,
     "metadata": {},
     "output_type": "execute_result"
    }
   ],
   "source": [
    "#looking at how many different cities\n",
    "train.City.unique()"
   ]
  },
  {
   "cell_type": "code",
   "execution_count": 12,
   "id": "cd8aec65",
   "metadata": {},
   "outputs": [
    {
     "data": {
      "text/plain": [
       "array(['Atlanta', 'Boston', 'Chicago', 'Philadelphia'], dtype=object)"
      ]
     },
     "execution_count": 12,
     "metadata": {},
     "output_type": "execute_result"
    }
   ],
   "source": [
    "test.City.unique()"
   ]
  },
  {
   "cell_type": "markdown",
   "id": "339366a7",
   "metadata": {},
   "source": [
    "#### 1.1 Exploratory Data Analysis"
   ]
  },
  {
   "cell_type": "code",
   "execution_count": 13,
   "id": "ecb204fc",
   "metadata": {
    "scrolled": false
   },
   "outputs": [
    {
     "data": {
      "image/png": "[encoded data removed]",
      "text/plain": [
       "<Figure size 1152x432 with 1 Axes>"
      ]
     },
     "metadata": {
      "needs_background": "light"
     },
     "output_type": "display_data"
    }
   ],
   "source": [
    "#plotting the data points for each city\n",
    "plt.figure(figsize=(16,6))\n",
    "sns.countplot(x=\"City\", data=train)\n",
    "plt.title(\"City Data Points\", fontsize=14)\n",
    "plt.ylabel(\"Data Points\", fontsize=12)\n",
    "plt.xlabel(\"City\", fontsize=12)\n",
    "None"
   ]
  },
  {
   "cell_type": "markdown",
   "id": "3e95f9c9",
   "metadata": {},
   "source": [
    "Here we can see that there are more data points in the city of Philadelphia than any other city."
   ]
  },
  {
   "cell_type": "code",
   "execution_count": 14,
   "id": "4ec93edf",
   "metadata": {},
   "outputs": [
    {
     "data": {
      "image/png": "[encoded data removed]",
      "text/plain": [
       "<Figure size 1008x432 with 1 Axes>"
      ]
     },
     "metadata": {
      "needs_background": "light"
     },
     "output_type": "display_data"
    }
   ],
   "source": [
    "#plotting the number of intersections for each city\n",
    "plt.subplots(figsize=(14, 6))\n",
    "train.groupby(['City']).IntersectionId.nunique().sort_index().plot(kind='bar')\n",
    "plt.title(\"Number Of Intersections by City\", fontsize=14)\n",
    "plt.ylabel(\"Intersections\", fontsize=12)\n",
    "plt.xlabel(\"City\", fontsize=12)\n",
    "plt.xticks(rotation=360)\n",
    "plt.tight_layout()"
   ]
  },
  {
   "cell_type": "markdown",
   "id": "f31eafc4",
   "metadata": {},
   "source": [
    "We can tell from this graph that there are more intersections in Chicago."
   ]
  },
  {
   "cell_type": "code",
   "execution_count": 15,
   "id": "37c52005",
   "metadata": {
    "scrolled": false
   },
   "outputs": [
    {
     "data": {
      "image/png": "[encoded data removed]",
      "text/plain": [
       "<Figure size 1008x432 with 1 Axes>"
      ]
     },
     "metadata": {
      "needs_background": "light"
     },
     "output_type": "display_data"
    }
   ],
   "source": [
    "#calculating total time stopped to plot the most traffic in each city in hours\n",
    "train['TotalTimeStopped'] = train['TotalTimeStopped_p20']+train['TotalTimeStopped_p40']+train['TotalTimeStopped_p50']+train['TotalTimeStopped_p60']+train['TotalTimeStopped_p80']\n",
    "\n",
    "plt.figure(figsize=(14,6))\n",
    "train.groupby('City')['TotalTimeStopped'].mean().plot(kind='bar')\n",
    "plt.title(\"Traffic by City\", fontsize=14)\n",
    "plt.ylabel(\"Total Time Stopped (hr)\", fontsize=12)\n",
    "plt.xlabel(\"City Name\", fontsize=12)\n",
    "plt.xticks(rotation=360)\n",
    "plt.tight_layout()"
   ]
  },
  {
   "cell_type": "markdown",
   "id": "c50e1cbf",
   "metadata": {},
   "source": [
    "Atlanta shows that people are stopped in traffic for more hours, and right after comes Boston."
   ]
  },
  {
   "cell_type": "code",
   "execution_count": 16,
   "id": "ceb9dd19",
   "metadata": {
    "scrolled": false
   },
   "outputs": [
    {
     "data": {
      "image/png": "[encoded data removed]",
      "text/plain": [
       "<Figure size 1152x432 with 1 Axes>"
      ]
     },
     "metadata": {
      "needs_background": "light"
     },
     "output_type": "display_data"
    }
   ],
   "source": [
    "#plotting the traffic volume by hour in different cities. \n",
    "plt.figure(figsize=(16,6))\n",
    "sns.countplot(x=\"Hour\", data=train, hue='City')\n",
    "plt.title(\"Traffic by Hour per City\", fontsize=14)\n",
    "plt.ylabel(\"Frequency\", fontsize=12)\n",
    "plt.xlabel(\"Hours\", fontsize=12)\n",
    "None"
   ]
  },
  {
   "cell_type": "markdown",
   "id": "7982bba9",
   "metadata": {},
   "source": [
    "In Philadelphia, traffic is always high from 8h to 23h, but there is always traffic, even at 3am, whereas in other cities, there is not a lot of traffic in the middle of the night. We can observe that in all of the cities traffic from midnight to 4am is lower than during the day, as to be expected."
   ]
  },
  {
   "cell_type": "code",
   "execution_count": 17,
   "id": "cda6e006",
   "metadata": {
    "scrolled": true
   },
   "outputs": [
    {
     "data": {
      "image/png": "[encoded data removed]",
      "text/plain": [
       "<Figure size 1296x720 with 4 Axes>"
      ]
     },
     "metadata": {
      "needs_background": "light"
     },
     "output_type": "display_data"
    }
   ],
   "source": [
    "#plotting traffic by hour in different cities comparing weekend vs weekday\n",
    "Atlanta = train[train['City']=='Atlanta']\n",
    "Boston = train[train['City']=='Boston']\n",
    "Chicago = train[train['City']=='Chicago']\n",
    "Philadelphia = train[train['City']=='Philadelphia']\n",
    "\n",
    "fig, axes = plt.subplots(nrows=2, ncols=2)\n",
    "\n",
    "#plotting for Atlanta\n",
    "Atlanta_Weekend = Atlanta[Atlanta['Weekend'] == 1].groupby(['Hour'])['TotalTimeStopped'].mean()\n",
    "Atlanta_Weekday = Atlanta[Atlanta['Weekend'] == 0].groupby(['Hour'])['TotalTimeStopped'].mean()\n",
    "Atlanta_Weekend.plot(ax=axes[0,0],figsize=(18,10),title='Atlanta: Weekend vs. Weekday Traffic', label='Weekends')\n",
    "Atlanta_Weekday.plot(ax=axes[0,0],figsize=(18,10), label='Weekdays')\n",
    "\n",
    "#plotting for Boston\n",
    "Boston_Weekend = Boston[Boston['Weekend'] == 1].groupby(['Hour'])['TotalTimeStopped'].mean()\n",
    "Boston_Weekday = Boston[Boston['Weekend'] == 0].groupby(['Hour'])['TotalTimeStopped'].mean()\n",
    "Boston_Weekend.plot(ax=axes[0,1],figsize=(18,10),title='Boston: Weeekend vs. Weekday Traffic', label='Weekends')\n",
    "Boston_Weekday.plot(ax=axes[0,1],figsize=(18,10), label='Weekdays')\n",
    "\n",
    "#plotting for Chicago\n",
    "Chicago_Weekend = Chicago[Chicago['Weekend'] == 1].groupby(['Hour'])['TotalTimeStopped'].mean()\n",
    "Chicago_Weekday = Chicago[Chicago['Weekend'] == 0].groupby(['Hour'])['TotalTimeStopped'].mean()\n",
    "Chicago_Weekend.plot(ax=axes[1,0],figsize=(18,10),title='Chicago: Weeekend vs. Weekday Traffic', label='Weekends')\n",
    "Chicago_Weekday.plot(ax=axes[1,0],figsize=(18,10), label='Weekdays')\n",
    "\n",
    "#plotting for Philadelphia\n",
    "Philadelphia_Weekend = Philadelphia[Philadelphia['Weekend'] == 1].groupby(['Hour'])['TotalTimeStopped'].mean()\n",
    "Philadelphia_Weekday = Philadelphia[Philadelphia['Weekend'] == 0].groupby(['Hour'])['TotalTimeStopped'].mean()\n",
    "Philadelphia_Weekend.plot(ax=axes[1,1],figsize=(18,10),title='Philadelphia: Weeekend vs. Weekday Traffic', label='Weekends')\n",
    "Philadelphia_Weekday.plot(ax=axes[1,1],figsize=(18,10), label='Weekdays')\n",
    "\n",
    "fig.legend(labels=['Weekends','Weekdays'])\n",
    "fig.tight_layout()"
   ]
  },
  {
   "cell_type": "markdown",
   "id": "1b4c52ee",
   "metadata": {},
   "source": [
    "We can tell in the 4 different cities that traffic is much higher in weekdays (during the day) but it is higher on the weeknd in the middle of the night. This is to be expected because during the day on a weekday, people are going to work and on the weekend, at night they are going out. We can also tell from these graphs that there are two peak times on weekdays, at around 8am and 6pm, which is the time people are commuting to and from work. "
   ]
  },
  {
   "cell_type": "markdown",
   "id": "91229462",
   "metadata": {},
   "source": [
    "### 2. Feature Engineering"
   ]
  },
  {
   "cell_type": "code",
   "execution_count": 18,
   "id": "5acc2a31",
   "metadata": {},
   "outputs": [],
   "source": [
    "#converting city, entryheading and exitheading columns into objects type\n",
    "train = pd.get_dummies(train, columns=['City' ], prefix=['City'], drop_first=False)\n",
    "train = pd.get_dummies(train, columns=['EntryHeading' ], prefix=['entry'], drop_first=False)\n",
    "train = pd.get_dummies(train, columns=['ExitHeading' ], prefix=['exit'], drop_first=False)\n",
    "\n",
    "test = pd.get_dummies(test, columns=['City' ], prefix=['City'], drop_first=False)\n",
    "test = pd.get_dummies(test, columns=['EntryHeading' ], prefix=['entry'], drop_first=False)\n",
    "test = pd.get_dummies(test, columns=['ExitHeading' ], prefix=['exit'], drop_first=False)"
   ]
  },
  {
   "cell_type": "code",
   "execution_count": 19,
   "id": "4cd46ef3",
   "metadata": {},
   "outputs": [],
   "source": [
    "#target \n",
    "y1 = train[\"TotalTimeStopped_p20\"]\n",
    "y2 = train[\"TotalTimeStopped_p50\"]\n",
    "y3 = train[\"TotalTimeStopped_p80\"]\n",
    "\n",
    "y4 = train[\"DistanceToFirstStop_p20\"]\n",
    "y5 = train[\"DistanceToFirstStop_p50\"]\n",
    "y6 = train[\"DistanceToFirstStop_p80\"]\n",
    "\n",
    "#feature list:\n",
    "train = train[[\"IntersectionId\", \"Hour\",\"Weekend\",\"Month\",\"Latitude\", \"Longitude\",\n",
    "              \"City_Atlanta\", \"City_Boston\", \"City_Chicago\", \"City_Philadelphia\",\n",
    "              \"entry_E\",\"entry_N\",\"entry_NE\",\"entry_NW\",\"entry_S\",\"entry_SE\",\"entry_SW\",\"entry_W\",\n",
    "              \"exit_E\",\"exit_N\",\"exit_NE\",\"exit_NW\",\"exit_S\",\"exit_SE\",\"exit_SW\",\"exit_W\"]]"
   ]
  },
  {
   "cell_type": "code",
   "execution_count": 20,
   "id": "e26c2993",
   "metadata": {},
   "outputs": [],
   "source": [
    "#scaling longitude and latitude in train dataset\n",
    "scale_lat_long_train = StandardScaler()\n",
    "for col in [\"Latitude\", \"Longitude\"]:\n",
    "    scale_lat_long_train.fit(train[col].values.reshape(-1, 1))\n",
    "    train[col] = scale_lat_long_train.transform(train[col].values.reshape(-1, 1))"
   ]
  },
  {
   "cell_type": "code",
   "execution_count": 21,
   "id": "e7f9125a",
   "metadata": {},
   "outputs": [
    {
     "data": {
      "text/html": [
       "<div>\n",
       "<style scoped>\n",
       "    .dataframe tbody tr th:only-of-type {\n",
       "        vertical-align: middle;\n",
       "    }\n",
       "\n",
       "    .dataframe tbody tr th {\n",
       "        vertical-align: top;\n",
       "    }\n",
       "\n",
       "    .dataframe thead th {\n",
       "        text-align: right;\n",
       "    }\n",
       "</style>\n",
       "<table border=\"1\" class=\"dataframe\">\n",
       "  <thead>\n",
       "    <tr style=\"text-align: right;\">\n",
       "      <th></th>\n",
       "      <th>IntersectionId</th>\n",
       "      <th>Hour</th>\n",
       "      <th>Weekend</th>\n",
       "      <th>Month</th>\n",
       "      <th>Latitude</th>\n",
       "      <th>Longitude</th>\n",
       "      <th>City_Atlanta</th>\n",
       "      <th>City_Boston</th>\n",
       "      <th>City_Chicago</th>\n",
       "      <th>City_Philadelphia</th>\n",
       "      <th>...</th>\n",
       "      <th>entry_SW</th>\n",
       "      <th>entry_W</th>\n",
       "      <th>exit_E</th>\n",
       "      <th>exit_N</th>\n",
       "      <th>exit_NE</th>\n",
       "      <th>exit_NW</th>\n",
       "      <th>exit_S</th>\n",
       "      <th>exit_SE</th>\n",
       "      <th>exit_SW</th>\n",
       "      <th>exit_W</th>\n",
       "    </tr>\n",
       "  </thead>\n",
       "  <tbody>\n",
       "    <tr>\n",
       "      <th>0</th>\n",
       "      <td>0</td>\n",
       "      <td>0</td>\n",
       "      <td>0</td>\n",
       "      <td>6</td>\n",
       "      <td>-2.007147</td>\n",
       "      <td>-1.097597</td>\n",
       "      <td>1</td>\n",
       "      <td>0</td>\n",
       "      <td>0</td>\n",
       "      <td>0</td>\n",
       "      <td>...</td>\n",
       "      <td>0</td>\n",
       "      <td>0</td>\n",
       "      <td>0</td>\n",
       "      <td>0</td>\n",
       "      <td>0</td>\n",
       "      <td>1</td>\n",
       "      <td>0</td>\n",
       "      <td>0</td>\n",
       "      <td>0</td>\n",
       "      <td>0</td>\n",
       "    </tr>\n",
       "    <tr>\n",
       "      <th>1</th>\n",
       "      <td>0</td>\n",
       "      <td>0</td>\n",
       "      <td>0</td>\n",
       "      <td>6</td>\n",
       "      <td>-2.007147</td>\n",
       "      <td>-1.097597</td>\n",
       "      <td>1</td>\n",
       "      <td>0</td>\n",
       "      <td>0</td>\n",
       "      <td>0</td>\n",
       "      <td>...</td>\n",
       "      <td>0</td>\n",
       "      <td>0</td>\n",
       "      <td>0</td>\n",
       "      <td>0</td>\n",
       "      <td>0</td>\n",
       "      <td>0</td>\n",
       "      <td>0</td>\n",
       "      <td>1</td>\n",
       "      <td>0</td>\n",
       "      <td>0</td>\n",
       "    </tr>\n",
       "    <tr>\n",
       "      <th>2</th>\n",
       "      <td>0</td>\n",
       "      <td>1</td>\n",
       "      <td>0</td>\n",
       "      <td>6</td>\n",
       "      <td>-2.007147</td>\n",
       "      <td>-1.097597</td>\n",
       "      <td>1</td>\n",
       "      <td>0</td>\n",
       "      <td>0</td>\n",
       "      <td>0</td>\n",
       "      <td>...</td>\n",
       "      <td>0</td>\n",
       "      <td>0</td>\n",
       "      <td>0</td>\n",
       "      <td>0</td>\n",
       "      <td>0</td>\n",
       "      <td>1</td>\n",
       "      <td>0</td>\n",
       "      <td>0</td>\n",
       "      <td>0</td>\n",
       "      <td>0</td>\n",
       "    </tr>\n",
       "    <tr>\n",
       "      <th>3</th>\n",
       "      <td>0</td>\n",
       "      <td>1</td>\n",
       "      <td>0</td>\n",
       "      <td>6</td>\n",
       "      <td>-2.007147</td>\n",
       "      <td>-1.097597</td>\n",
       "      <td>1</td>\n",
       "      <td>0</td>\n",
       "      <td>0</td>\n",
       "      <td>0</td>\n",
       "      <td>...</td>\n",
       "      <td>0</td>\n",
       "      <td>0</td>\n",
       "      <td>0</td>\n",
       "      <td>0</td>\n",
       "      <td>0</td>\n",
       "      <td>0</td>\n",
       "      <td>0</td>\n",
       "      <td>1</td>\n",
       "      <td>0</td>\n",
       "      <td>0</td>\n",
       "    </tr>\n",
       "    <tr>\n",
       "      <th>4</th>\n",
       "      <td>0</td>\n",
       "      <td>2</td>\n",
       "      <td>0</td>\n",
       "      <td>6</td>\n",
       "      <td>-2.007147</td>\n",
       "      <td>-1.097597</td>\n",
       "      <td>1</td>\n",
       "      <td>0</td>\n",
       "      <td>0</td>\n",
       "      <td>0</td>\n",
       "      <td>...</td>\n",
       "      <td>0</td>\n",
       "      <td>0</td>\n",
       "      <td>0</td>\n",
       "      <td>0</td>\n",
       "      <td>0</td>\n",
       "      <td>1</td>\n",
       "      <td>0</td>\n",
       "      <td>0</td>\n",
       "      <td>0</td>\n",
       "      <td>0</td>\n",
       "    </tr>\n",
       "  </tbody>\n",
       "</table>\n",
       "<p>5 rows × 26 columns</p>\n",
       "</div>"
      ],
      "text/plain": [
       "   IntersectionId  Hour  Weekend  Month  Latitude  Longitude  City_Atlanta  \\\n",
       "0               0     0        0      6 -2.007147  -1.097597             1   \n",
       "1               0     0        0      6 -2.007147  -1.097597             1   \n",
       "2               0     1        0      6 -2.007147  -1.097597             1   \n",
       "3               0     1        0      6 -2.007147  -1.097597             1   \n",
       "4               0     2        0      6 -2.007147  -1.097597             1   \n",
       "\n",
       "   City_Boston  City_Chicago  City_Philadelphia  ...  entry_SW  entry_W  \\\n",
       "0            0             0                  0  ...         0        0   \n",
       "1            0             0                  0  ...         0        0   \n",
       "2            0             0                  0  ...         0        0   \n",
       "3            0             0                  0  ...         0        0   \n",
       "4            0             0                  0  ...         0        0   \n",
       "\n",
       "   exit_E  exit_N  exit_NE  exit_NW  exit_S  exit_SE  exit_SW  exit_W  \n",
       "0       0       0        0        1       0        0        0       0  \n",
       "1       0       0        0        0       0        1        0       0  \n",
       "2       0       0        0        1       0        0        0       0  \n",
       "3       0       0        0        0       0        1        0       0  \n",
       "4       0       0        0        1       0        0        0       0  \n",
       "\n",
       "[5 rows x 26 columns]"
      ]
     },
     "execution_count": 21,
     "metadata": {},
     "output_type": "execute_result"
    }
   ],
   "source": [
    "#checking to see if scaling worked\n",
    "train.head()"
   ]
  },
  {
   "cell_type": "code",
   "execution_count": 22,
   "id": "d9a171e8",
   "metadata": {},
   "outputs": [],
   "source": [
    "#scaling longitude and latitude in test dataset\n",
    "scale_lat_long_test = StandardScaler()\n",
    "for col in [\"Latitude\", \"Longitude\"]:\n",
    "    scale_lat_long_test.fit(test[col].values.reshape(-1, 1))\n",
    "    test[col] = scale_lat_long_test.transform(test[col].values.reshape(-1, 1))   "
   ]
  },
  {
   "cell_type": "code",
   "execution_count": 23,
   "id": "eb1cfb21",
   "metadata": {},
   "outputs": [
    {
     "data": {
      "text/html": [
       "<div>\n",
       "<style scoped>\n",
       "    .dataframe tbody tr th:only-of-type {\n",
       "        vertical-align: middle;\n",
       "    }\n",
       "\n",
       "    .dataframe tbody tr th {\n",
       "        vertical-align: top;\n",
       "    }\n",
       "\n",
       "    .dataframe thead th {\n",
       "        text-align: right;\n",
       "    }\n",
       "</style>\n",
       "<table border=\"1\" class=\"dataframe\">\n",
       "  <thead>\n",
       "    <tr style=\"text-align: right;\">\n",
       "      <th></th>\n",
       "      <th>RowId</th>\n",
       "      <th>IntersectionId</th>\n",
       "      <th>Latitude</th>\n",
       "      <th>Longitude</th>\n",
       "      <th>EntryStreetName</th>\n",
       "      <th>ExitStreetName</th>\n",
       "      <th>Hour</th>\n",
       "      <th>Weekend</th>\n",
       "      <th>Month</th>\n",
       "      <th>Path</th>\n",
       "      <th>...</th>\n",
       "      <th>entry_SW</th>\n",
       "      <th>entry_W</th>\n",
       "      <th>exit_E</th>\n",
       "      <th>exit_N</th>\n",
       "      <th>exit_NE</th>\n",
       "      <th>exit_NW</th>\n",
       "      <th>exit_S</th>\n",
       "      <th>exit_SE</th>\n",
       "      <th>exit_SW</th>\n",
       "      <th>exit_W</th>\n",
       "    </tr>\n",
       "  </thead>\n",
       "  <tbody>\n",
       "    <tr>\n",
       "      <th>0</th>\n",
       "      <td>0</td>\n",
       "      <td>1</td>\n",
       "      <td>-2.064656</td>\n",
       "      <td>-1.09837</td>\n",
       "      <td>Peachtree Street Southwest</td>\n",
       "      <td>Peachtree Street Southwest</td>\n",
       "      <td>0</td>\n",
       "      <td>0</td>\n",
       "      <td>6</td>\n",
       "      <td>Peachtree Street Southwest_NE_Peachtree Street...</td>\n",
       "      <td>...</td>\n",
       "      <td>0</td>\n",
       "      <td>0</td>\n",
       "      <td>0</td>\n",
       "      <td>0</td>\n",
       "      <td>1</td>\n",
       "      <td>0</td>\n",
       "      <td>0</td>\n",
       "      <td>0</td>\n",
       "      <td>0</td>\n",
       "      <td>0</td>\n",
       "    </tr>\n",
       "    <tr>\n",
       "      <th>1</th>\n",
       "      <td>1</td>\n",
       "      <td>1</td>\n",
       "      <td>-2.064656</td>\n",
       "      <td>-1.09837</td>\n",
       "      <td>Peachtree Street Southwest</td>\n",
       "      <td>Mitchell Street Southwest</td>\n",
       "      <td>0</td>\n",
       "      <td>0</td>\n",
       "      <td>6</td>\n",
       "      <td>Peachtree Street Southwest_SW_Mitchell Street ...</td>\n",
       "      <td>...</td>\n",
       "      <td>1</td>\n",
       "      <td>0</td>\n",
       "      <td>0</td>\n",
       "      <td>0</td>\n",
       "      <td>0</td>\n",
       "      <td>0</td>\n",
       "      <td>0</td>\n",
       "      <td>1</td>\n",
       "      <td>0</td>\n",
       "      <td>0</td>\n",
       "    </tr>\n",
       "    <tr>\n",
       "      <th>2</th>\n",
       "      <td>2</td>\n",
       "      <td>1</td>\n",
       "      <td>-2.064656</td>\n",
       "      <td>-1.09837</td>\n",
       "      <td>Peachtree Street Southwest</td>\n",
       "      <td>Peachtree Street Southwest</td>\n",
       "      <td>0</td>\n",
       "      <td>0</td>\n",
       "      <td>6</td>\n",
       "      <td>Peachtree Street Southwest_SW_Peachtree Street...</td>\n",
       "      <td>...</td>\n",
       "      <td>1</td>\n",
       "      <td>0</td>\n",
       "      <td>0</td>\n",
       "      <td>0</td>\n",
       "      <td>0</td>\n",
       "      <td>0</td>\n",
       "      <td>0</td>\n",
       "      <td>0</td>\n",
       "      <td>1</td>\n",
       "      <td>0</td>\n",
       "    </tr>\n",
       "    <tr>\n",
       "      <th>3</th>\n",
       "      <td>3</td>\n",
       "      <td>1</td>\n",
       "      <td>-2.064656</td>\n",
       "      <td>-1.09837</td>\n",
       "      <td>Peachtree Street Southwest</td>\n",
       "      <td>Peachtree Street Southwest</td>\n",
       "      <td>1</td>\n",
       "      <td>0</td>\n",
       "      <td>6</td>\n",
       "      <td>Peachtree Street Southwest_NE_Peachtree Street...</td>\n",
       "      <td>...</td>\n",
       "      <td>0</td>\n",
       "      <td>0</td>\n",
       "      <td>0</td>\n",
       "      <td>0</td>\n",
       "      <td>1</td>\n",
       "      <td>0</td>\n",
       "      <td>0</td>\n",
       "      <td>0</td>\n",
       "      <td>0</td>\n",
       "      <td>0</td>\n",
       "    </tr>\n",
       "    <tr>\n",
       "      <th>4</th>\n",
       "      <td>4</td>\n",
       "      <td>1</td>\n",
       "      <td>-2.064656</td>\n",
       "      <td>-1.09837</td>\n",
       "      <td>Peachtree Street Southwest</td>\n",
       "      <td>Peachtree Street Southwest</td>\n",
       "      <td>1</td>\n",
       "      <td>0</td>\n",
       "      <td>6</td>\n",
       "      <td>Peachtree Street Southwest_SW_Peachtree Street...</td>\n",
       "      <td>...</td>\n",
       "      <td>1</td>\n",
       "      <td>0</td>\n",
       "      <td>0</td>\n",
       "      <td>0</td>\n",
       "      <td>0</td>\n",
       "      <td>0</td>\n",
       "      <td>0</td>\n",
       "      <td>0</td>\n",
       "      <td>1</td>\n",
       "      <td>0</td>\n",
       "    </tr>\n",
       "  </tbody>\n",
       "</table>\n",
       "<p>5 rows × 30 columns</p>\n",
       "</div>"
      ],
      "text/plain": [
       "   RowId  IntersectionId  Latitude  Longitude             EntryStreetName  \\\n",
       "0      0               1 -2.064656   -1.09837  Peachtree Street Southwest   \n",
       "1      1               1 -2.064656   -1.09837  Peachtree Street Southwest   \n",
       "2      2               1 -2.064656   -1.09837  Peachtree Street Southwest   \n",
       "3      3               1 -2.064656   -1.09837  Peachtree Street Southwest   \n",
       "4      4               1 -2.064656   -1.09837  Peachtree Street Southwest   \n",
       "\n",
       "               ExitStreetName  Hour  Weekend  Month  \\\n",
       "0  Peachtree Street Southwest     0        0      6   \n",
       "1   Mitchell Street Southwest     0        0      6   \n",
       "2  Peachtree Street Southwest     0        0      6   \n",
       "3  Peachtree Street Southwest     1        0      6   \n",
       "4  Peachtree Street Southwest     1        0      6   \n",
       "\n",
       "                                                Path  ...  entry_SW  entry_W  \\\n",
       "0  Peachtree Street Southwest_NE_Peachtree Street...  ...         0        0   \n",
       "1  Peachtree Street Southwest_SW_Mitchell Street ...  ...         1        0   \n",
       "2  Peachtree Street Southwest_SW_Peachtree Street...  ...         1        0   \n",
       "3  Peachtree Street Southwest_NE_Peachtree Street...  ...         0        0   \n",
       "4  Peachtree Street Southwest_SW_Peachtree Street...  ...         1        0   \n",
       "\n",
       "   exit_E  exit_N  exit_NE  exit_NW  exit_S  exit_SE  exit_SW  exit_W  \n",
       "0       0       0        1        0       0        0        0       0  \n",
       "1       0       0        0        0       0        1        0       0  \n",
       "2       0       0        0        0       0        0        1       0  \n",
       "3       0       0        1        0       0        0        0       0  \n",
       "4       0       0        0        0       0        0        1       0  \n",
       "\n",
       "[5 rows x 30 columns]"
      ]
     },
     "execution_count": 23,
     "metadata": {},
     "output_type": "execute_result"
    }
   ],
   "source": [
    "#checking to see if scaling worked\n",
    "test.head()"
   ]
  },
  {
   "cell_type": "markdown",
   "id": "a0dfda3b",
   "metadata": {},
   "source": [
    "### 3. Model Selection"
   ]
  },
  {
   "cell_type": "markdown",
   "id": "4dedb616",
   "metadata": {},
   "source": [
    "#### Linear Regression"
   ]
  },
  {
   "cell_type": "code",
   "execution_count": 24,
   "id": "e6eb9e6b",
   "metadata": {},
   "outputs": [],
   "source": [
    "#making function for the linear regression model\n",
    "def linear_regression(target):\n",
    "    \n",
    "    #splitting data into train and test\n",
    "    X_train, X_test, y_train, y_test = train_test_split(train, target, test_size=0.2, random_state=42)\n",
    "    \n",
    "    #instantiating model\n",
    "    linreg = LinearRegression()\n",
    "\n",
    "    #fitting model\n",
    "    linreg.fit(X_train, y_train)\n",
    "\n",
    "    #predicting model\n",
    "    y_pred = linreg.predict(X_test)\n",
    "\n",
    "    #printing scores and comparing actual values with predicted \n",
    "    print('Test Score: %.4f' % linreg.score(X_test, y_test)) \n",
    "    print('Training Score: %.4f' % linreg.score(X_train, y_train)) \n",
    "    print ('r2 Score: ', r2_score(y_test, y_pred))\n",
    "    print ('RMSE: ', np.sqrt(mean_squared_error(y_test, y_pred)))"
   ]
  },
  {
   "cell_type": "code",
   "execution_count": 25,
   "id": "aef45ac3",
   "metadata": {},
   "outputs": [
    {
     "name": "stdout",
     "output_type": "stream",
     "text": [
      "Test Score: 0.0062\n",
      "Training Score: 0.0062\n",
      "r2 Score:  0.0062445569516738075\n",
      "RMSE:  6.987962741918254\n"
     ]
    }
   ],
   "source": [
    "#evaluating different targets\n",
    "linear_regression(y1)"
   ]
  },
  {
   "cell_type": "code",
   "execution_count": 26,
   "id": "d205c4ef",
   "metadata": {},
   "outputs": [
    {
     "name": "stdout",
     "output_type": "stream",
     "text": [
      "Test Score: 0.0206\n",
      "Training Score: 0.0216\n",
      "r2 Score:  0.02062247385823579\n",
      "RMSE:  15.426861691515018\n"
     ]
    }
   ],
   "source": [
    "linear_regression(y2)"
   ]
  },
  {
   "cell_type": "code",
   "execution_count": 27,
   "id": "e3eb44e8",
   "metadata": {
    "scrolled": true
   },
   "outputs": [
    {
     "name": "stdout",
     "output_type": "stream",
     "text": [
      "Test Score: 0.0362\n",
      "Training Score: 0.0373\n",
      "r2 Score:  0.036198741725557926\n",
      "RMSE:  27.628832510587635\n"
     ]
    }
   ],
   "source": [
    "linear_regression(y3)"
   ]
  },
  {
   "cell_type": "code",
   "execution_count": 28,
   "id": "dd30c268",
   "metadata": {},
   "outputs": [
    {
     "name": "stdout",
     "output_type": "stream",
     "text": [
      "Test Score: 0.0052\n",
      "Training Score: 0.0052\n",
      "r2 Score:  0.005157573323977371\n",
      "RMSE:  30.199943856421523\n"
     ]
    }
   ],
   "source": [
    "linear_regression(y4)"
   ]
  },
  {
   "cell_type": "code",
   "execution_count": 29,
   "id": "64fe646a",
   "metadata": {},
   "outputs": [
    {
     "name": "stdout",
     "output_type": "stream",
     "text": [
      "Test Score: 0.0114\n",
      "Training Score: 0.0124\n",
      "r2 Score:  0.011439370238578883\n",
      "RMSE:  75.682456750223\n"
     ]
    }
   ],
   "source": [
    "linear_regression(y5)"
   ]
  },
  {
   "cell_type": "code",
   "execution_count": 30,
   "id": "4c181495",
   "metadata": {
    "scrolled": true
   },
   "outputs": [
    {
     "name": "stdout",
     "output_type": "stream",
     "text": [
      "Test Score: 0.0196\n",
      "Training Score: 0.0206\n",
      "r2 Score:  0.019619321726244032\n",
      "RMSE:  160.0201268791712\n"
     ]
    }
   ],
   "source": [
    "linear_regression(y6)"
   ]
  },
  {
   "cell_type": "markdown",
   "id": "664c9696",
   "metadata": {},
   "source": [
    "#### Decision Tree"
   ]
  },
  {
   "cell_type": "code",
   "execution_count": 31,
   "id": "4863b0d7",
   "metadata": {},
   "outputs": [],
   "source": [
    "#making function for the decisition tree model\n",
    "def decisiontree_regressor(target):\n",
    "    \n",
    "    #splitting data into train and test\n",
    "    X_train, X_test, y_train, y_test = train_test_split(train, target, test_size=0.2, random_state=42)\n",
    "    \n",
    "    #instantiating model\n",
    "    dt_r = DecisionTreeRegressor(max_depth=8,min_samples_leaf=0.13,random_state=3)\n",
    "\n",
    "    #fitting model\n",
    "    dt_r.fit(X_train, y_train)\n",
    "\n",
    "    #predicting model\n",
    "    y_pred = dt_r.predict(X_test)\n",
    "\n",
    "    #printing scores and comparing actual values with predicted \n",
    "    print('Test Score: %.4f' % dt_r.score(X_test, y_test)) \n",
    "    print('Training Score: %.4f' % dt_r.score(X_train, y_train)) \n",
    "    print ('r2 Score: ', r2_score(y_test, y_pred))\n",
    "    print ('RMSE: ', np.sqrt(mean_squared_error(y_test, y_pred)))"
   ]
  },
  {
   "cell_type": "code",
   "execution_count": 32,
   "id": "9b0d91f8",
   "metadata": {},
   "outputs": [
    {
     "name": "stdout",
     "output_type": "stream",
     "text": [
      "Test Score: 0.0097\n",
      "Training Score: 0.0106\n",
      "r2 Score:  0.009740595604987856\n",
      "RMSE:  6.975660061064565\n"
     ]
    }
   ],
   "source": [
    "#evaluating different targets\n",
    "decisiontree_regressor(y1)"
   ]
  },
  {
   "cell_type": "code",
   "execution_count": 33,
   "id": "211cdf97",
   "metadata": {},
   "outputs": [
    {
     "name": "stdout",
     "output_type": "stream",
     "text": [
      "Test Score: 0.0326\n",
      "Training Score: 0.0331\n",
      "r2 Score:  0.03261274951082893\n",
      "RMSE:  15.332137259899069\n"
     ]
    }
   ],
   "source": [
    "decisiontree_regressor(y2)"
   ]
  },
  {
   "cell_type": "code",
   "execution_count": 34,
   "id": "4a5c152c",
   "metadata": {},
   "outputs": [
    {
     "name": "stdout",
     "output_type": "stream",
     "text": [
      "Test Score: 0.0448\n",
      "Training Score: 0.0455\n",
      "r2 Score:  0.044792234565574796\n",
      "RMSE:  27.505383932778845\n"
     ]
    }
   ],
   "source": [
    "decisiontree_regressor(y3)"
   ]
  },
  {
   "cell_type": "code",
   "execution_count": 35,
   "id": "43e53f61",
   "metadata": {},
   "outputs": [
    {
     "name": "stdout",
     "output_type": "stream",
     "text": [
      "Test Score: 0.0062\n",
      "Training Score: 0.0068\n",
      "r2 Score:  0.006248075128629904\n",
      "RMSE:  30.183387403716797\n"
     ]
    }
   ],
   "source": [
    "decisiontree_regressor(y4)"
   ]
  },
  {
   "cell_type": "code",
   "execution_count": 36,
   "id": "c817fdf4",
   "metadata": {},
   "outputs": [
    {
     "name": "stdout",
     "output_type": "stream",
     "text": [
      "Test Score: 0.0199\n",
      "Training Score: 0.0194\n",
      "r2 Score:  0.01988369097779863\n",
      "RMSE:  75.35852235708099\n"
     ]
    }
   ],
   "source": [
    "decisiontree_regressor(y5)"
   ]
  },
  {
   "cell_type": "code",
   "execution_count": 37,
   "id": "31f6b857",
   "metadata": {},
   "outputs": [
    {
     "name": "stdout",
     "output_type": "stream",
     "text": [
      "Test Score: 0.0276\n",
      "Training Score: 0.0269\n",
      "r2 Score:  0.027602946968328768\n",
      "RMSE:  159.36724158887586\n"
     ]
    }
   ],
   "source": [
    "decisiontree_regressor(y6)"
   ]
  },
  {
   "cell_type": "markdown",
   "id": "7ed624a5",
   "metadata": {},
   "source": [
    "#### Ridge and Lasso"
   ]
  },
  {
   "cell_type": "code",
   "execution_count": 38,
   "id": "9113775b",
   "metadata": {},
   "outputs": [],
   "source": [
    "#making function for the ridge and lasso model\n",
    "def ridge_lasso(Model, target):\n",
    "    \n",
    "    #splitting data into train and test\n",
    "    X_train, X_test, y_train, y_test = train_test_split(train, target, test_size=0.2, random_state=42)\n",
    "    \n",
    "    #instantiating model\n",
    "    obj= Model(alpha =0.0007, random_state=42)\n",
    "\n",
    "    #fitting model\n",
    "    obj.fit(X_train, y_train)\n",
    "\n",
    "    #predicting model\n",
    "    y_pred = obj.predict(X_test)\n",
    "\n",
    "    #printing scores and comparing actual values with predicted \n",
    "    print('Test Score: %.4f' % obj.score(X_test, y_test)) \n",
    "    print('Training Score: %.4f' % obj.score(X_train, y_train)) \n",
    "    print ('r2 Score: ', r2_score(y_test, y_pred))\n",
    "    print ('RMSE: ', np.sqrt(mean_squared_error(y_test, y_pred)))"
   ]
  },
  {
   "cell_type": "code",
   "execution_count": 39,
   "id": "d7f9af93",
   "metadata": {},
   "outputs": [
    {
     "name": "stdout",
     "output_type": "stream",
     "text": [
      "Test Score: 0.0062\n",
      "Training Score: 0.0062\n",
      "r2 Score:  0.006244568984324572\n",
      "RMSE:  6.987962699612214\n"
     ]
    }
   ],
   "source": [
    "#evaluating different targets with Ridge model\n",
    "ridge_lasso(Ridge, y1)"
   ]
  },
  {
   "cell_type": "code",
   "execution_count": 40,
   "id": "9b986f47",
   "metadata": {},
   "outputs": [
    {
     "name": "stdout",
     "output_type": "stream",
     "text": [
      "Test Score: 0.0206\n",
      "Training Score: 0.0216\n",
      "r2 Score:  0.0206225021546117\n",
      "RMSE:  15.426861468656995\n"
     ]
    }
   ],
   "source": [
    "ridge_lasso(Ridge, y2)"
   ]
  },
  {
   "cell_type": "code",
   "execution_count": 41,
   "id": "0c261454",
   "metadata": {},
   "outputs": [
    {
     "name": "stdout",
     "output_type": "stream",
     "text": [
      "Test Score: 0.0362\n",
      "Training Score: 0.0373\n",
      "r2 Score:  0.03619876576259484\n",
      "RMSE:  27.62883216605848\n"
     ]
    }
   ],
   "source": [
    "ridge_lasso(Ridge, y3)"
   ]
  },
  {
   "cell_type": "code",
   "execution_count": 42,
   "id": "fc881baa",
   "metadata": {},
   "outputs": [
    {
     "name": "stdout",
     "output_type": "stream",
     "text": [
      "Test Score: 0.0052\n",
      "Training Score: 0.0052\n",
      "r2 Score:  0.005157591006368367\n",
      "RMSE:  30.199943588033683\n"
     ]
    }
   ],
   "source": [
    "ridge_lasso(Ridge, y4)"
   ]
  },
  {
   "cell_type": "code",
   "execution_count": 43,
   "id": "8140c80c",
   "metadata": {},
   "outputs": [
    {
     "name": "stdout",
     "output_type": "stream",
     "text": [
      "Test Score: 0.0114\n",
      "Training Score: 0.0124\n",
      "r2 Score:  0.011439401839518193\n",
      "RMSE:  75.68245554056692\n"
     ]
    }
   ],
   "source": [
    "ridge_lasso(Ridge, y5)"
   ]
  },
  {
   "cell_type": "code",
   "execution_count": 44,
   "id": "9013f3e1",
   "metadata": {},
   "outputs": [
    {
     "name": "stdout",
     "output_type": "stream",
     "text": [
      "Test Score: 0.0196\n",
      "Training Score: 0.0206\n",
      "r2 Score:  0.01961936367392847\n",
      "RMSE:  160.02012345576944\n"
     ]
    }
   ],
   "source": [
    "ridge_lasso(Ridge, y6)"
   ]
  },
  {
   "cell_type": "code",
   "execution_count": 45,
   "id": "9b47fef8",
   "metadata": {},
   "outputs": [
    {
     "name": "stdout",
     "output_type": "stream",
     "text": [
      "Test Score: 0.0054\n",
      "Training Score: 0.0052\n",
      "r2 Score:  0.005391790873591207\n",
      "RMSE:  6.990960370640154\n"
     ]
    }
   ],
   "source": [
    "#evaluating different targets with Lasso model\n",
    "ridge_lasso(Lasso, y1)"
   ]
  },
  {
   "cell_type": "code",
   "execution_count": 46,
   "id": "23ab6e51",
   "metadata": {},
   "outputs": [
    {
     "name": "stdout",
     "output_type": "stream",
     "text": [
      "Test Score: 0.0193\n",
      "Training Score: 0.0200\n",
      "r2 Score:  0.01928007814402255\n",
      "RMSE:  15.437430578936072\n"
     ]
    }
   ],
   "source": [
    "ridge_lasso(Lasso, y2)"
   ]
  },
  {
   "cell_type": "code",
   "execution_count": null,
   "id": "766de78d",
   "metadata": {},
   "outputs": [],
   "source": [
    "ridge_lasso(Lasso, y3)"
   ]
  },
  {
   "cell_type": "code",
   "execution_count": null,
   "id": "66045ac9",
   "metadata": {},
   "outputs": [],
   "source": [
    "ridge_lasso(Lasso, y4)"
   ]
  },
  {
   "cell_type": "code",
   "execution_count": null,
   "id": "49cfc069",
   "metadata": {},
   "outputs": [],
   "source": [
    "ridge_lasso(Lasso, y5)"
   ]
  },
  {
   "cell_type": "code",
   "execution_count": null,
   "id": "8f1cb7ab",
   "metadata": {
    "scrolled": true
   },
   "outputs": [],
   "source": [
    "ridge_lasso(Lasso, y6)"
   ]
  },
  {
   "cell_type": "markdown",
   "id": "25f92bfd",
   "metadata": {},
   "source": [
    "#### XGB Regressor"
   ]
  },
  {
   "cell_type": "code",
   "execution_count": null,
   "id": "a5305dcc",
   "metadata": {},
   "outputs": [],
   "source": [
    "#making function for the xgb regressor model\n",
    "def xgb_regressor (target):\n",
    "\n",
    "    #splitting data into train and test\n",
    "    X_train, X_test, y_train, y_test = train_test_split(train, target, test_size=0.2, random_state=42)\n",
    "    \n",
    "    #instantiating model\n",
    "    XG = XGBRegressor()\n",
    "\n",
    "    #fitting model\n",
    "    XG.fit(X_train, y_train)\n",
    "\n",
    "    #predicting model\n",
    "    y_pred = XG.predict(X_test)\n",
    "\n",
    "    #printing scores and comparing actual values with predicted \n",
    "    print('Test Score: %.4f' % XG.score(X_test, y_test)) \n",
    "    print('Training Score: %.4f' % XG.score(X_train, y_train)) \n",
    "    print ('r2 Score: ', r2_score(y_test, y_pred))\n",
    "    print ('RMSE: ', np.sqrt(mean_squared_error(y_test, y_pred)))"
   ]
  },
  {
   "cell_type": "code",
   "execution_count": null,
   "id": "0622d7be",
   "metadata": {},
   "outputs": [],
   "source": [
    "#evaluating different targets with xgb regressor\n",
    "xgb_regressor(y1)"
   ]
  },
  {
   "cell_type": "code",
   "execution_count": null,
   "id": "8759d869",
   "metadata": {},
   "outputs": [],
   "source": [
    "xgb_regressor(y2)"
   ]
  },
  {
   "cell_type": "code",
   "execution_count": null,
   "id": "84093657",
   "metadata": {},
   "outputs": [],
   "source": [
    "xgb_regressor(y3)"
   ]
  },
  {
   "cell_type": "code",
   "execution_count": null,
   "id": "40914cf4",
   "metadata": {},
   "outputs": [],
   "source": [
    "xgb_regressor(y4)"
   ]
  },
  {
   "cell_type": "code",
   "execution_count": null,
   "id": "c7f12863",
   "metadata": {},
   "outputs": [],
   "source": [
    "xgb_regressor(y5)"
   ]
  },
  {
   "cell_type": "code",
   "execution_count": null,
   "id": "b1594cd6",
   "metadata": {},
   "outputs": [],
   "source": [
    "xgb_regressor(y6)"
   ]
  },
  {
   "cell_type": "markdown",
   "id": "79227936",
   "metadata": {},
   "source": [
    "### 4. Model Prediction"
   ]
  },
  {
   "cell_type": "markdown",
   "id": "bc4c0086",
   "metadata": {},
   "source": [
    "XGB Regressor is performing better in all targets than the rest of the models that we trained, so we are using the XGB regressor to the test data and to predict our model"
   ]
  },
  {
   "cell_type": "code",
   "execution_count": null,
   "id": "507423b4",
   "metadata": {},
   "outputs": [],
   "source": [
    "#creating a dataset with less columns to it is the same length as our train dataset\n",
    "X_test = test[[\"IntersectionId\", \"Hour\",\"Weekend\",\"Month\",\"Latitude\", \"Longitude\",\n",
    "              \"City_Atlanta\", \"City_Boston\", \"City_Chicago\", \"City_Philadelphia\",\n",
    "              \"entry_E\",\"entry_N\",\"entry_NE\",\"entry_NW\",\"entry_S\",\"entry_SE\",\"entry_SW\",\"entry_W\",\n",
    "              \"exit_E\",\"exit_N\",\"exit_NE\",\"exit_NW\",\"exit_S\",\"exit_SE\",\"exit_SW\",\"exit_W\"]]"
   ]
  },
  {
   "cell_type": "code",
   "execution_count": null,
   "id": "b00d0391",
   "metadata": {},
   "outputs": [],
   "source": [
    "#to make a model prediction, we can fit and predict for each different target\n",
    "xgb = XGBRegressor()"
   ]
  },
  {
   "cell_type": "code",
   "execution_count": null,
   "id": "d635dffa",
   "metadata": {},
   "outputs": [],
   "source": [
    "xgb.fit(train, y1)\n",
    "pred_1 = xgb.predict(X_test)"
   ]
  },
  {
   "cell_type": "code",
   "execution_count": null,
   "id": "5b4fa2b2",
   "metadata": {},
   "outputs": [],
   "source": [
    "xgb.fit(train, y2)\n",
    "pred_2 = xgb.predict(X_test)"
   ]
  },
  {
   "cell_type": "code",
   "execution_count": null,
   "id": "903eae8d",
   "metadata": {},
   "outputs": [],
   "source": [
    "xgb.fit(train, y3)\n",
    "pred_3 = xgb.predict(X_test)"
   ]
  },
  {
   "cell_type": "code",
   "execution_count": null,
   "id": "c408260c",
   "metadata": {},
   "outputs": [],
   "source": [
    "xgb.fit(train, y4)\n",
    "pred_4 = xgb.predict(X_test)"
   ]
  },
  {
   "cell_type": "code",
   "execution_count": null,
   "id": "cb5c4ece",
   "metadata": {},
   "outputs": [],
   "source": [
    "xgb.fit(train, y5)\n",
    "pred_5 = xgb.predict(X_test)"
   ]
  },
  {
   "cell_type": "code",
   "execution_count": null,
   "id": "d6accba4",
   "metadata": {},
   "outputs": [],
   "source": [
    "xgb.fit(train, y6)\n",
    "pred_6 = xgb.predict(X_test)"
   ]
  },
  {
   "cell_type": "code",
   "execution_count": null,
   "id": "7305be56",
   "metadata": {},
   "outputs": [],
   "source": [
    "#reading the sample submission file\n",
    "submission_file = pd.read_csv(\"sample_submission.csv\")"
   ]
  },
  {
   "cell_type": "code",
   "execution_count": null,
   "id": "131c4646",
   "metadata": {},
   "outputs": [],
   "source": [
    "#appending all predictions \n",
    "prediction = []\n",
    "for i in range(len(pred_1)):\n",
    "    for j in [pred_1,pred_2,pred_3,pred_4,pred_5,pred_6]:\n",
    "        prediction.append(j[i])\n",
    "        \n",
    "#creating submission file with target column for predictions\n",
    "submission_file[\"Target\"] = pd.Series(prediction)\n",
    "submission_file.to_csv(\"submission_final_predictions.csv\", index = False)"
   ]
  }
 ],
 "metadata": {
  "kernelspec": {
   "display_name": "Python 3 (ipykernel)",
   "language": "python",
   "name": "python3"
  },
  "language_info": {
   "codemirror_mode": {
    "name": "ipython",
    "version": 3
   },
   "file_extension": ".py",
   "mimetype": "text/x-python",
   "name": "python",
   "nbconvert_exporter": "python",
   "pygments_lexer": "ipython3",
   "version": "3.9.12"
  }
 },
 "nbformat": 4,
 "nbformat_minor": 5
}
